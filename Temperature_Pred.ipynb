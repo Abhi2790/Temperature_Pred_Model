{
 "cells": [
  {
   "cell_type": "code",
   "execution_count": 105,
   "id": "3080653a-baa2-42ea-8db6-48852a3c6f7c",
   "metadata": {},
   "outputs": [
    {
     "data": {
      "text/html": [
       "<div>\n",
       "<style scoped>\n",
       "    .dataframe tbody tr th:only-of-type {\n",
       "        vertical-align: middle;\n",
       "    }\n",
       "\n",
       "    .dataframe tbody tr th {\n",
       "        vertical-align: top;\n",
       "    }\n",
       "\n",
       "    .dataframe thead th {\n",
       "        text-align: right;\n",
       "    }\n",
       "</style>\n",
       "<table border=\"1\" class=\"dataframe\">\n",
       "  <thead>\n",
       "    <tr style=\"text-align: right;\">\n",
       "      <th></th>\n",
       "      <th>city</th>\n",
       "      <th>date</th>\n",
       "      <th>temperature_2m_max</th>\n",
       "      <th>temperature_2m_min</th>\n",
       "      <th>apparent_temperature_max</th>\n",
       "      <th>apparent_temperature_min</th>\n",
       "      <th>precipitation_sum</th>\n",
       "      <th>rain_sum</th>\n",
       "      <th>weather_code</th>\n",
       "      <th>wind_speed_10m_max</th>\n",
       "      <th>wind_gusts_10m_max</th>\n",
       "      <th>wind_direction_10m_dominant</th>\n",
       "    </tr>\n",
       "  </thead>\n",
       "  <tbody>\n",
       "    <tr>\n",
       "      <th>0</th>\n",
       "      <td>Delhi</td>\n",
       "      <td>2000-01-01</td>\n",
       "      <td>19.9</td>\n",
       "      <td>7.4</td>\n",
       "      <td>19.2</td>\n",
       "      <td>5.8</td>\n",
       "      <td>0.0</td>\n",
       "      <td>0.0</td>\n",
       "      <td>0</td>\n",
       "      <td>10.9</td>\n",
       "      <td>13.3</td>\n",
       "      <td>58</td>\n",
       "    </tr>\n",
       "    <tr>\n",
       "      <th>1</th>\n",
       "      <td>Delhi</td>\n",
       "      <td>2000-01-02</td>\n",
       "      <td>20.0</td>\n",
       "      <td>5.5</td>\n",
       "      <td>18.9</td>\n",
       "      <td>3.4</td>\n",
       "      <td>0.0</td>\n",
       "      <td>0.0</td>\n",
       "      <td>3</td>\n",
       "      <td>9.5</td>\n",
       "      <td>14.8</td>\n",
       "      <td>326</td>\n",
       "    </tr>\n",
       "    <tr>\n",
       "      <th>2</th>\n",
       "      <td>Delhi</td>\n",
       "      <td>2000-01-03</td>\n",
       "      <td>20.1</td>\n",
       "      <td>6.3</td>\n",
       "      <td>18.2</td>\n",
       "      <td>4.3</td>\n",
       "      <td>0.0</td>\n",
       "      <td>0.0</td>\n",
       "      <td>0</td>\n",
       "      <td>10.0</td>\n",
       "      <td>23.8</td>\n",
       "      <td>309</td>\n",
       "    </tr>\n",
       "    <tr>\n",
       "      <th>3</th>\n",
       "      <td>Delhi</td>\n",
       "      <td>2000-01-04</td>\n",
       "      <td>19.8</td>\n",
       "      <td>6.4</td>\n",
       "      <td>18.5</td>\n",
       "      <td>4.2</td>\n",
       "      <td>0.0</td>\n",
       "      <td>0.0</td>\n",
       "      <td>0</td>\n",
       "      <td>8.6</td>\n",
       "      <td>18.7</td>\n",
       "      <td>311</td>\n",
       "    </tr>\n",
       "    <tr>\n",
       "      <th>4</th>\n",
       "      <td>Delhi</td>\n",
       "      <td>2000-01-05</td>\n",
       "      <td>19.4</td>\n",
       "      <td>5.3</td>\n",
       "      <td>17.7</td>\n",
       "      <td>3.2</td>\n",
       "      <td>0.0</td>\n",
       "      <td>0.0</td>\n",
       "      <td>0</td>\n",
       "      <td>9.4</td>\n",
       "      <td>20.2</td>\n",
       "      <td>322</td>\n",
       "    </tr>\n",
       "  </tbody>\n",
       "</table>\n",
       "</div>"
      ],
      "text/plain": [
       "    city        date  temperature_2m_max  temperature_2m_min  \\\n",
       "0  Delhi  2000-01-01                19.9                 7.4   \n",
       "1  Delhi  2000-01-02                20.0                 5.5   \n",
       "2  Delhi  2000-01-03                20.1                 6.3   \n",
       "3  Delhi  2000-01-04                19.8                 6.4   \n",
       "4  Delhi  2000-01-05                19.4                 5.3   \n",
       "\n",
       "   apparent_temperature_max  apparent_temperature_min  precipitation_sum  \\\n",
       "0                      19.2                       5.8                0.0   \n",
       "1                      18.9                       3.4                0.0   \n",
       "2                      18.2                       4.3                0.0   \n",
       "3                      18.5                       4.2                0.0   \n",
       "4                      17.7                       3.2                0.0   \n",
       "\n",
       "   rain_sum  weather_code  wind_speed_10m_max  wind_gusts_10m_max  \\\n",
       "0       0.0             0                10.9                13.3   \n",
       "1       0.0             3                 9.5                14.8   \n",
       "2       0.0             0                10.0                23.8   \n",
       "3       0.0             0                 8.6                18.7   \n",
       "4       0.0             0                 9.4                20.2   \n",
       "\n",
       "   wind_direction_10m_dominant  \n",
       "0                           58  \n",
       "1                          326  \n",
       "2                          309  \n",
       "3                          311  \n",
       "4                          322  "
      ]
     },
     "execution_count": 105,
     "metadata": {},
     "output_type": "execute_result"
    }
   ],
   "source": [
    "import numpy as np\n",
    "import pandas as pd\n",
    "import matplotlib.pyplot as plt\n",
    "from sklearn.preprocessing import LabelEncoder\n",
    "from sklearn.linear_model import Ridge, Lasso, ElasticNet, LogisticRegression\n",
    "from sklearn.model_selection import train_test_split\n",
    "from sklearn.preprocessing import StandardScaler\n",
    "from sklearn.pipeline import make_pipeline\n",
    "from sklearn.metrics import mean_squared_error,r2_score\n",
    "from sklearn.metrics import accuracy_score, classification_report, confusion_matrix\n",
    "\n",
    "#form sklearn.ensemble import RandomForestRegressor\n",
    "\n",
    "df= pd.read_csv(\"DATA_CSV/india_2000_2024_daily_weather.csv\")\n",
    "df.head()\n"
   ]
  },
  {
   "cell_type": "code",
   "execution_count": 84,
   "id": "c126c2db-7b78-4fb4-9978-12e17f02fa19",
   "metadata": {},
   "outputs": [
    {
     "name": "stdout",
     "output_type": "stream",
     "text": [
      "<bound method NDFrame.describe of           city        date  temperature_2m_max  temperature_2m_min  \\\n",
      "0        Delhi  2000-01-01                19.9                 7.4   \n",
      "1        Delhi  2000-01-02                20.0                 5.5   \n",
      "2        Delhi  2000-01-03                20.1                 6.3   \n",
      "3        Delhi  2000-01-04                19.8                 6.4   \n",
      "4        Delhi  2000-01-05                19.4                 5.3   \n",
      "...        ...         ...                 ...                 ...   \n",
      "91315  Lucknow  2024-12-27                25.6                13.9   \n",
      "91316  Lucknow  2024-12-28                22.4                15.9   \n",
      "91317  Lucknow  2024-12-29                22.8                13.5   \n",
      "91318  Lucknow  2024-12-30                20.8                12.4   \n",
      "91319  Lucknow  2024-12-31                18.3                 9.4   \n",
      "\n",
      "       apparent_temperature_max  apparent_temperature_min  precipitation_sum  \\\n",
      "0                          19.2                       5.8                0.0   \n",
      "1                          18.9                       3.4                0.0   \n",
      "2                          18.2                       4.3                0.0   \n",
      "3                          18.5                       4.2                0.0   \n",
      "4                          17.7                       3.2                0.0   \n",
      "...                         ...                       ...                ...   \n",
      "91315                      25.9                      13.7                0.0   \n",
      "91316                      21.7                      15.7                0.5   \n",
      "91317                      22.9                      13.9                0.3   \n",
      "91318                      20.1                      12.0                0.0   \n",
      "91319                      17.7                       8.6                0.0   \n",
      "\n",
      "       rain_sum  weather_code  wind_speed_10m_max  wind_gusts_10m_max  \\\n",
      "0           0.0             0                10.9                13.3   \n",
      "1           0.0             3                 9.5                14.8   \n",
      "2           0.0             0                10.0                23.8   \n",
      "3           0.0             0                 8.6                18.7   \n",
      "4           0.0             0                 9.4                20.2   \n",
      "...         ...           ...                 ...                 ...   \n",
      "91315       0.0             3                10.1                22.3   \n",
      "91316       0.5            51                16.5                39.6   \n",
      "91317       0.3            51                12.3                28.1   \n",
      "91318       0.0             1                11.5                26.6   \n",
      "91319       0.0             3                 7.9                22.3   \n",
      "\n",
      "       wind_direction_10m_dominant  \n",
      "0                               58  \n",
      "1                              326  \n",
      "2                              309  \n",
      "3                              311  \n",
      "4                              322  \n",
      "...                            ...  \n",
      "91315                           88  \n",
      "91316                          108  \n",
      "91317                          273  \n",
      "91318                          278  \n",
      "91319                          291  \n",
      "\n",
      "[91320 rows x 12 columns]>\n"
     ]
    }
   ],
   "source": [
    "df.shape\n",
    "print(df.describe)"
   ]
  },
  {
   "cell_type": "code",
   "execution_count": null,
   "id": "629a617c-4dbe-4f8e-86c7-b598b9dff550",
   "metadata": {},
   "outputs": [],
   "source": []
  },
  {
   "cell_type": "code",
   "execution_count": 85,
   "id": "28f9551d-c0a5-4ac0-91aa-fde88440757d",
   "metadata": {},
   "outputs": [
    {
     "data": {
      "text/plain": [
       "city                           0\n",
       "date                           0\n",
       "temperature_2m_max             0\n",
       "temperature_2m_min             0\n",
       "apparent_temperature_max       0\n",
       "apparent_temperature_min       0\n",
       "precipitation_sum              0\n",
       "rain_sum                       0\n",
       "weather_code                   0\n",
       "wind_speed_10m_max             0\n",
       "wind_gusts_10m_max             0\n",
       "wind_direction_10m_dominant    0\n",
       "dtype: int64"
      ]
     },
     "execution_count": 85,
     "metadata": {},
     "output_type": "execute_result"
    }
   ],
   "source": [
    "df.isnull().values.any()\n",
    "df.isnull().sum()"
   ]
  },
  {
   "cell_type": "code",
   "execution_count": null,
   "id": "93251a2b-1caf-4755-864b-9c00258a5388",
   "metadata": {},
   "outputs": [],
   "source": []
  },
  {
   "cell_type": "code",
   "execution_count": 86,
   "id": "bf8f7396-14aa-4dfa-b60a-45fea6ba2ffd",
   "metadata": {},
   "outputs": [],
   "source": [
    "df['date']=pd.to_datetime(df['date'])\n",
    "df = df.sort_values(['city','date'])"
   ]
  },
  {
   "cell_type": "code",
   "execution_count": 124,
   "id": "cf6770d1-c278-4fb5-86a4-7cc08c8b33a2",
   "metadata": {},
   "outputs": [],
   "source": [
    "df['target_temp_max'] = df.groupby('city')['temperature_2m_max'].shift(-1)"
   ]
  },
  {
   "cell_type": "code",
   "execution_count": 125,
   "id": "3d15e789-c107-4a5c-8df8-0bce75bd1477",
   "metadata": {},
   "outputs": [],
   "source": [
    "feature_cols = [\n",
    "    'temperature_2m_max','temperature_2m_min',\n",
    "    'apparent_temperature_max','apparent_temperature_min',\n",
    "    'precipitation_sum','rain_sum','weather_code',\n",
    "    'wind_speed_10m_max','wind_gusts_10m_max','wind_direction_10m_dominant'\n",
    "]\n",
    "\n",
    "\n",
    "x = df[feature_cols]\n",
    "y = df['target_temp_max']\n",
    "mask = ~np.isnan(y)\n",
    "x = x[mask]\n",
    "y = y[mask]\n",
    "\n"
   ]
  },
  {
   "cell_type": "code",
   "execution_count": 126,
   "id": "12d51338-15cf-414d-bcc2-198433c9952e",
   "metadata": {},
   "outputs": [],
   "source": [
    "x_train,x_test,y_train,y_test = train_test_split(\n",
    "    x,y,test_size=0.3,random_state=42)"
   ]
  },
  {
   "cell_type": "code",
   "execution_count": 127,
   "id": "8933c987-22f8-403c-8138-338b11534da5",
   "metadata": {},
   "outputs": [
    {
     "name": "stdout",
     "output_type": "stream",
     "text": [
      "X_Train: (63917, 10)\n",
      "Y_Train: (63917,)\n",
      "X_Test: (27393, 10)\n",
      "y_Test: (27393,)\n"
     ]
    }
   ],
   "source": [
    "print(\"X_Train:\",x_train.shape)\n",
    "print(\"Y_Train:\",y_train.shape)\n",
    "print(\"X_Test:\",x_test.shape)\n",
    "print(\"y_Test:\",y_test.shape)"
   ]
  },
  {
   "cell_type": "code",
   "execution_count": null,
   "id": "12f4c0e0-2505-49c1-87c9-5150a868221b",
   "metadata": {},
   "outputs": [],
   "source": []
  },
  {
   "cell_type": "code",
   "execution_count": 128,
   "id": "0aa35c7b-aa9e-47fd-89a6-323dc5683cb5",
   "metadata": {},
   "outputs": [
    {
     "name": "stdout",
     "output_type": "stream",
     "text": [
      "Ridge R²: 0.93125464531688\n"
     ]
    }
   ],
   "source": [
    "# Ridge \n",
    "\n",
    "ridge_model = make_pipeline(StandardScaler(), Ridge(alpha=1.0))\n",
    "ridge_model.fit(x_train, y_train)\n",
    "L2 = ridge_model.score(x_test, y_test)\n",
    "print(\"Ridge R²:\", L2)"
   ]
  },
  {
   "cell_type": "code",
   "execution_count": 129,
   "id": "ca0e6483-0555-4dba-bf40-44885abbcb06",
   "metadata": {},
   "outputs": [
    {
     "name": "stdout",
     "output_type": "stream",
     "text": [
      "Lasso R²: 0.9297880719033058\n"
     ]
    }
   ],
   "source": [
    "# Lasso \n",
    "\n",
    "lasso_model = make_pipeline(StandardScaler(), Lasso(alpha=0.1))\n",
    "L1=lasso_model.fit(x_train, y_train)\n",
    "L1 = lasso_model.score(x_test, y_test)\n",
    "print(\"Lasso R²:\", L1)"
   ]
  },
  {
   "cell_type": "code",
   "execution_count": 130,
   "id": "f30efef7-2ad0-4c71-9842-58de8567dd9a",
   "metadata": {},
   "outputs": [
    {
     "name": "stdout",
     "output_type": "stream",
     "text": [
      "ElasticNet R²: 0.9248800080536557\n"
     ]
    }
   ],
   "source": [
    "# ElasticNet\n",
    "\n",
    "elastic_model = make_pipeline(StandardScaler(), ElasticNet(alpha=0.1, l1_ratio=0.5))\n",
    "elastic_model.fit(x_train, y_train)\n",
    "NetEls = elastic_model.score(x_test, y_test)\n",
    "print(\"ElasticNet R²:\", NetEls)"
   ]
  },
  {
   "cell_type": "code",
   "execution_count": 131,
   "id": "09a9101e-b023-4048-a855-fe1a6a8501b1",
   "metadata": {},
   "outputs": [],
   "source": [
    "new_data = pd.DataFrame([{\n",
    "    'temperature_2m_max': 33,\n",
    "    'temperature_2m_min': 26,\n",
    "    'apparent_temperature_max': 35,\n",
    "    'apparent_temperature_min': 27,\n",
    "    'precipitation_sum': 0,\n",
    "    'rain_sum': 0,\n",
    "    'weather_code': 10,  # already numeric code\n",
    "    'wind_speed_10m_max': 10,\n",
    "    'wind_gusts_10m_max': 15,\n",
    "    'wind_direction_10m_dominant': 180\n",
    "}])\n",
    "\n"
   ]
  },
  {
   "cell_type": "code",
   "execution_count": 132,
   "id": "bbd33c82-465f-4c41-8539-3267229138a2",
   "metadata": {},
   "outputs": [
    {
     "name": "stdout",
     "output_type": "stream",
     "text": [
      "Ridge prediction: 33.34622864740144\n",
      "Lasso prediction: 32.88727998580486\n",
      "ElasticNet prediction: 32.91539197949194\n"
     ]
    }
   ],
   "source": [
    "L1_pred = lasso_model.predict(new_data)[0]\n",
    "L2_pred =  ridge_model.predict(new_data)[0]\n",
    "Netels_pred =  elastic_model.predict(new_data)[0]\n",
    "print(\"Ridge prediction:\",L2_pred)\n",
    "print(\"Lasso prediction:\", L1_pred)\n",
    "print(\"ElasticNet prediction:\",Netels_pred)"
   ]
  },
  {
   "cell_type": "code",
   "execution_count": 133,
   "id": "acf99ea7-7479-4890-bfef-b6a78adb2409",
   "metadata": {},
   "outputs": [
    {
     "name": "stdout",
     "output_type": "stream",
     "text": [
      "Ridge -> R²: 0.931,RMSE: 1.246\n",
      "Lasso -> R²: 0.930,RMSE: 1.259\n",
      "ElasticNet -> R²: 0.925,RMSE: 1.302\n"
     ]
    }
   ],
   "source": [
    "\n",
    "models = {\n",
    "    \"Ridge\": ridge_model,\n",
    "    \"Lasso\": lasso_model,\n",
    "    \"ElasticNet\": elastic_model\n",
    "}\n",
    "\n",
    "for name, model in models.items():\n",
    "    y_pred = model.predict(x_test)\n",
    "    r2 = model.score(x_test, y_test)\n",
    "    rmse = np.sqrt(mean_squared_error(y_test, y_pred))\n",
    "    print(f\"{name} -> R²: {r2:.3f},RMSE: {rmse:.3f}\")\n"
   ]
  },
  {
   "cell_type": "code",
   "execution_count": 134,
   "id": "27e5e8ed-281f-4d10-940d-fbc8dfea8a86",
   "metadata": {},
   "outputs": [
    {
     "name": "stdout",
     "output_type": "stream",
     "text": [
      "Accuracy: 0.9209287044135364\n",
      "\n",
      "Classification Report:\n",
      "               precision    recall  f1-score   support\n",
      "\n",
      "           0       0.91      0.91      0.91     12133\n",
      "           1       0.93      0.93      0.93     15260\n",
      "\n",
      "    accuracy                           0.92     27393\n",
      "   macro avg       0.92      0.92      0.92     27393\n",
      "weighted avg       0.92      0.92      0.92     27393\n",
      "\n",
      "\n",
      "Confusion Matrix:\n",
      " [[11024  1109]\n",
      " [ 1057 14203]]\n"
     ]
    }
   ],
   "source": [
    "y_class = (y > 30).astype(int)  # binary classification\n",
    "x_train, x_test, y_train, y_test = train_test_split(x, y_class, test_size=0.3, random_state=42)\n",
    "clf = make_pipeline(StandardScaler(), LogisticRegression())\n",
    "clf.fit(x_train, y_train)\n",
    "\n",
    "y_pred = clf.predict(x_test)\n",
    "\n",
    "print(\"Accuracy:\", accuracy_score(y_test, y_pred))\n",
    "print(\"\\nClassification Report:\\n\", classification_report(y_test, y_pred))\n",
    "print(\"\\nConfusion Matrix:\\n\", confusion_matrix(y_test, y_pred))"
   ]
  },
  {
   "cell_type": "code",
   "execution_count": 117,
   "id": "88293a6b-7528-433f-a70f-9c8849ab6eb8",
   "metadata": {},
   "outputs": [
    {
     "data": {
      "image/png": "[encoded data removed]",
      "text/plain": [
       "<Figure size 800x500 with 1 Axes>"
      ]
     },
     "metadata": {},
     "output_type": "display_data"
    }
   ],
   "source": [
    "\n",
    "model_names = [\"Ridge\", \"Lasso\", \"ElasticNet\"]\n",
    "\n",
    "r2_scores = []\n",
    "rmse_scores = []\n",
    "\n",
    "for name, model in zip(model_names, [ridge_model, lasso_model, elastic_model]):\n",
    "    y_pred = model.predict(x_test)\n",
    "    r2 = model.score(x_test, y_test)\n",
    "    rmse = np.sqrt(mean_squared_error(y_test, y_pred))\n",
    "    r2_scores.append(r2)\n",
    "    rmse_scores.append(rmse)\n",
    "\n",
    "plt.figure(figsize=(8,5))\n",
    "plt.plot(model_names, r2_scores, marker='o', label='R² Score', color='blue')\n",
    "plt.plot(model_names, rmse_scores, marker='s', label='RMSE', color='red')\n",
    "plt.title(\"Model Performance (R² and RMSE)\")\n",
    "plt.xlabel(\"Model\")\n",
    "plt.ylabel(\"Score\")\n",
    "plt.legend()\n",
    "plt.grid(True)\n",
    "plt.show()\n"
   ]
  },
  {
   "cell_type": "code",
   "execution_count": 135,
   "id": "88846110-825a-49ab-802b-91110cdddc26",
   "metadata": {},
   "outputs": [
    {
     "data": {
      "image/png": "[encoded data removed]",
      "text/plain": [
       "<Figure size 800x500 with 1 Axes>"
      ]
     },
     "metadata": {},
     "output_type": "display_data"
    },
    {
     "data": {
      "image/png": "[encoded data removed]",
      "text/plain": [
       "<Figure size 800x500 with 1 Axes>"
      ]
     },
     "metadata": {},
     "output_type": "display_data"
    }
   ],
   "source": [
    "\n",
    "model_names = [\"Ridge\", \"Lasso\", \"ElasticNet\"]\n",
    "r2_scores = []\n",
    "rmse_scores = []\n",
    "\n",
    "for name, model in zip(model_names, [ridge_model, lasso_model, elastic_model]):\n",
    "    y_pred = model.predict(x_test)\n",
    "    r2 = model.score(x_test, y_test)\n",
    "    rmse = np.sqrt(mean_squared_error(y_test, y_pred))\n",
    "    r2_scores.append(r2)\n",
    "    rmse_scores.append(rmse)\n",
    "\n",
    "# Line chart for R²\n",
    "plt.figure(figsize=(8,5))\n",
    "plt.plot(model_names, r2_scores, marker='o', color='blue')\n",
    "plt.title(\"Model Performance (R² Score)\")\n",
    "plt.xlabel(\"Model\")\n",
    "plt.ylabel(\"R² Score\")\n",
    "plt.grid(True)\n",
    "plt.show()\n",
    "\n",
    "# Line chart for RMSE\n",
    "plt.figure(figsize=(8,5))\n",
    "plt.plot(model_names, rmse_scores, marker='s', color='red')\n",
    "plt.title(\"Model Performance (RMSE)\")\n",
    "plt.xlabel(\"Model\")\n",
    "plt.ylabel(\"RMSE\")\n",
    "plt.grid(True)\n",
    "plt.show()\n"
   ]
  },
  {
   "cell_type": "code",
   "execution_count": null,
   "id": "2fd481b7-43e9-419f-a55b-dfcadffd1a2b",
   "metadata": {},
   "outputs": [],
   "source": []
  }
 ],
 "metadata": {
  "kernelspec": {
   "display_name": "Python 3 (ipykernel)",
   "language": "python",
   "name": "python3"
  },
  "language_info": {
   "codemirror_mode": {
    "name": "ipython",
    "version": 3
   },
   "file_extension": ".py",
   "mimetype": "text/x-python",
   "name": "python",
   "nbconvert_exporter": "python",
   "pygments_lexer": "ipython3",
   "version": "3.11.8"
  }
 },
 "nbformat": 4,
 "nbformat_minor": 5
}
